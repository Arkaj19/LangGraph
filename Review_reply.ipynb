{
 "cells": [
  {
   "cell_type": "code",
   "execution_count": 32,
   "id": "cdbc6259",
   "metadata": {},
   "outputs": [],
   "source": [
    "from langgraph.graph import StateGraph, END, START\n",
    "from langchain_google_genai import ChatGoogleGenerativeAI\n",
    "from typing import TypedDict, Annotated, Literal\n",
    "from dotenv import load_dotenv\n",
    "import os\n",
    "from pydantic import BaseModel, Field"
   ]
  },
  {
   "cell_type": "code",
   "execution_count": 33,
   "id": "b1f7c83c",
   "metadata": {},
   "outputs": [
    {
     "data": {
      "text/plain": [
       "True"
      ]
     },
     "execution_count": 33,
     "metadata": {},
     "output_type": "execute_result"
    }
   ],
   "source": [
    "load_dotenv()"
   ]
  },
  {
   "cell_type": "code",
   "execution_count": 34,
   "id": "58d46f40",
   "metadata": {},
   "outputs": [
    {
     "name": "stderr",
     "output_type": "stream",
     "text": [
      "E0000 00:00:1759599120.177263 3612311 alts_credentials.cc:93] ALTS creds ignored. Not running on GCP and untrusted ALTS is not enabled.\n"
     ]
    }
   ],
   "source": [
    "model = ChatGoogleGenerativeAI(\n",
    "    model = 'gemini-2.5-flash',\n",
    "    google_api_key = os.getenv('GEMINI_API_KEY')\n",
    ")"
   ]
  },
  {
   "cell_type": "code",
   "execution_count": 35,
   "id": "301688fc",
   "metadata": {},
   "outputs": [],
   "source": [
    "class SentimentSchema(BaseModel):\n",
    "\n",
    "    sentiment: Literal[\"positive\", \"negative\"] = Field(description=\"Specify the sentiment of the given review\")"
   ]
  },
  {
   "cell_type": "code",
   "execution_count": 36,
   "id": "0506216c",
   "metadata": {},
   "outputs": [],
   "source": [
    "class DiagnosisSchema(BaseModel):\n",
    "    issue_type: Literal[\"UX\", \"Performance\", \"Bug\", \"Support\", \"Other\"] = Field(\n",
    "        description=\"The type of issue reported by the user.\"\n",
    "    )\n",
    "    tone: Literal[\"angry\", \"frustrated\", \"disappointed\", \"calm\"] = Field(\n",
    "        description=\"The emotional tone expressed by the user.\"\n",
    "    )\n",
    "    urgency: Literal[\"low\", \"medium\", \"high\"] = Field(\n",
    "        description=\"How urgent or critical the issue is.\"\n",
    "    )\n"
   ]
  },
  {
   "cell_type": "code",
   "execution_count": 37,
   "id": "b28eacd8",
   "metadata": {},
   "outputs": [],
   "source": [
    "structured_model = model.with_structured_output(SentimentSchema)\n",
    "structured_model2 = model.with_structured_output(DiagnosisSchema)"
   ]
  },
  {
   "cell_type": "code",
   "execution_count": 38,
   "id": "041f0388",
   "metadata": {},
   "outputs": [],
   "source": [
    "# prompt = \"What is the sentiment of the following review: The software is very glitchy\"\n",
    "# structured_model.invoke(prompt).sentiment"
   ]
  },
  {
   "cell_type": "code",
   "execution_count": 39,
   "id": "8bc4170f",
   "metadata": {},
   "outputs": [],
   "source": [
    "class ReviewState(TypedDict):\n",
    "\n",
    "    review: str\n",
    "    sentiment : Literal[\"positive\", \"negative\"]\n",
    "    diagnosis : dict\n",
    "    #This is going to be a dictionary where we will be storing the 3 parameters for diagnosis\n",
    "    response : str"
   ]
  },
  {
   "cell_type": "code",
   "execution_count": 40,
   "id": "90f62f05",
   "metadata": {},
   "outputs": [],
   "source": [
    "def find_sentiment( state: ReviewState ) -> ReviewState:\n",
    "\n",
    "    rev = state['review']\n",
    "    prompt = f\"What is the sentiment of the following review: {rev}\"\n",
    "    sentiment = structured_model.invoke(prompt).sentiment\n",
    "\n",
    "    return { 'sentiment': sentiment}"
   ]
  },
  {
   "cell_type": "code",
   "execution_count": 41,
   "id": "b049ec56",
   "metadata": {},
   "outputs": [],
   "source": [
    "def check_sentiment( state : ReviewState) -> Literal[\"positive_response\", \"run_diagnosis\"]:\n",
    "\n",
    "    if state[\"sentiment\"] == 'positive':\n",
    "        return \"positive_response\"\n",
    "    else:\n",
    "        return \"run_diagnosis\"\n"
   ]
  },
  {
   "cell_type": "code",
   "execution_count": 42,
   "id": "8feee2c1",
   "metadata": {},
   "outputs": [],
   "source": [
    "def positive_response( state : ReviewState) -> ReviewState:\n",
    "\n",
    "    prompt = f\"\"\"Write a warm thank-you message in response to this review:\n",
    "    \\n\\n\"{state['review']}\"\\n\n",
    "    Also, kindly ask the user to leave feedback on our website\"\"\"\n"
   ]
  },
  {
   "cell_type": "code",
   "execution_count": 43,
   "id": "c648582a",
   "metadata": {},
   "outputs": [],
   "source": [
    "def run_diagnosis(state: ReviewState):\n",
    "    prompt = f\"\"\"Diagnose this negative review:\\n\\n{state['review']}\\n\n",
    "    Return issue_type, tone, and urgency.\n",
    "    \"\"\"\n",
    "    response = structured_model2.invoke(prompt)\n",
    "    return {'diagnosis': response.model_dump()}\n"
   ]
  },
  {
   "cell_type": "code",
   "execution_count": 44,
   "id": "a6337bdb",
   "metadata": {},
   "outputs": [],
   "source": [
    "def negative_response( state : ReviewState):\n",
    "    prompt = \"\"\"You are a support assistant.\n",
    "    The user had a '{diagnosis['issue_type']}' issue, sounded '{diagnosis['tone']}', and marked urgency as '{diagnosis['urgency']}'.\n",
    "    Write an empathetic, helpful resolution message.\"\"\"\n",
    "\n",
    "    response = model.invoke(prompt).content\n",
    "\n",
    "    return {'response': response}"
   ]
  },
  {
   "cell_type": "code",
   "execution_count": 45,
   "id": "a91444bc",
   "metadata": {},
   "outputs": [],
   "source": [
    "graph = StateGraph(ReviewState)\n",
    "\n",
    "graph.add_node('find_sentiment', find_sentiment)\n",
    "graph.add_node('run_diagnosis', run_diagnosis)\n",
    "graph.add_node('positive_response', positive_response)\n",
    "graph.add_node('negative_response', negative_response)\n",
    "\n",
    "graph.add_edge(START, 'find_sentiment')\n",
    "graph.add_conditional_edges('find_sentiment', check_sentiment)\n",
    "graph.add_edge('positive_response', END)\n",
    "graph.add_edge('run_diagnosis', 'negative_response')\n",
    "graph.add_edge('negative_response', END)\n",
    "\n",
    "workflow = graph.compile()\n",
    "\n",
    "\n"
   ]
  },
  {
   "cell_type": "code",
   "execution_count": 46,
   "id": "59071126",
   "metadata": {},
   "outputs": [
    {
     "data": {
      "image/png": "[encoded data removed]",
      "text/plain": [
       "<langgraph.graph.state.CompiledStateGraph object at 0x11040d590>"
      ]
     },
     "execution_count": 46,
     "metadata": {},
     "output_type": "execute_result"
    }
   ],
   "source": [
    "workflow"
   ]
  },
  {
   "cell_type": "code",
   "execution_count": 47,
   "id": "2660fa5a",
   "metadata": {},
   "outputs": [
    {
     "data": {
      "text/plain": [
       "{'review': 'The product is really bad',\n",
       " 'sentiment': 'negative',\n",
       " 'diagnosis': {'issue_type': 'Other',\n",
       "  'tone': 'disappointed',\n",
       "  'urgency': 'low'},\n",
       " 'response': \"Hello there,\\n\\nWe understand you've been experiencing a **{diagnosis['issue_type']}** issue. We heard your concern, and it's clear from your **{diagnosis['tone']}** tone, coupled with marking the urgency as **{diagnosis['urgency']}**, that this was a priority for you. We sincerely apologize for any frustration or inconvenience this may have caused.\\n\\nWe're pleased to inform you that we've successfully addressed your request/resolved the issue.\\n\\nPlease check [specific area or action, e.g., your account, your email, the system] to confirm everything is now to your satisfaction. If you encounter any further difficulties or have additional questions, please don't hesitate to reach out. We're here to help!\\n\\nThank you for your patience and understanding.\\n\\nBest regards,\\n\\nYour Support Team\"}"
      ]
     },
     "execution_count": 47,
     "metadata": {},
     "output_type": "execute_result"
    }
   ],
   "source": [
    "initial_state = {\n",
    "    'review' : 'The product is really bad'\n",
    "}\n",
    "\n",
    "workflow.invoke(initial_state)"
   ]
  }
 ],
 "metadata": {
  "kernelspec": {
   "display_name": "myvenv (3.13.5)",
   "language": "python",
   "name": "python3"
  },
  "language_info": {
   "codemirror_mode": {
    "name": "ipython",
    "version": 3
   },
   "file_extension": ".py",
   "mimetype": "text/x-python",
   "name": "python",
   "nbconvert_exporter": "python",
   "pygments_lexer": "ipython3",
   "version": "3.13.5"
  }
 },
 "nbformat": 4,
 "nbformat_minor": 5
}
