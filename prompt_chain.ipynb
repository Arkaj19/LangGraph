{
 "cells": [
  {
   "cell_type": "code",
   "execution_count": 7,
   "id": "0163f721",
   "metadata": {},
   "outputs": [],
   "source": [
    "from langgraph.graph import StateGraph, END, START\n",
    "from langchain_google_genai import ChatGoogleGenerativeAI\n",
    "from typing import TypedDict\n",
    "from dotenv import load_dotenv\n",
    "import os\n",
    "from langchain_core.prompts import PromptTemplate"
   ]
  },
  {
   "cell_type": "code",
   "execution_count": 8,
   "id": "d0fa0998",
   "metadata": {},
   "outputs": [
    {
     "data": {
      "text/plain": [
       "True"
      ]
     },
     "execution_count": 8,
     "metadata": {},
     "output_type": "execute_result"
    }
   ],
   "source": [
    "load_dotenv()"
   ]
  },
  {
   "cell_type": "code",
   "execution_count": 9,
   "id": "171ceadb",
   "metadata": {},
   "outputs": [],
   "source": [
    "model = ChatGoogleGenerativeAI(\n",
    "    model = 'gemini-2.5-flash',\n",
    "    google_api_key = os.getenv('GEMINI_API_KEY')\n",
    ")\n"
   ]
  },
  {
   "cell_type": "code",
   "execution_count": 10,
   "id": "95b388e3",
   "metadata": {},
   "outputs": [],
   "source": [
    "class prompt_chain(TypedDict):\n",
    "    topic: str\n",
    "    outine: str\n",
    "    blog: str"
   ]
  },
  {
   "cell_type": "code",
   "execution_count": 11,
   "id": "c4e33215",
   "metadata": {},
   "outputs": [],
   "source": [
    "def get_outline(state : prompt_chain) -> prompt_chain:\n",
    "\n",
    "    #fetch title\n",
    "    topic = state['topic']\n",
    "\n",
    "    prompt = f\"Generate an outline for a blog based on this topic: {topic}\"\n",
    "    outline = model.invoke(prompt).content\n",
    "\n",
    "    state['outine'] = outline\n",
    "\n",
    "    return state"
   ]
  },
  {
   "cell_type": "code",
   "execution_count": 17,
   "id": "bcead38c",
   "metadata": {},
   "outputs": [],
   "source": [
    "def get_final_blog(state : prompt_chain) -> prompt_chain:\n",
    "\n",
    "    outline = state['outine']\n",
    "    topic = state['topic']\n",
    "\n",
    "    final_prompt = f\"Write a detailed blog on the title - {topic} based on the outline -\\n  {outline}\"\n",
    "\n",
    "    content = model.invoke(final_prompt).content\n",
    "    state['blog'] = content\n",
    "\n",
    "    return state"
   ]
  },
  {
   "cell_type": "code",
   "execution_count": 18,
   "id": "002003bb",
   "metadata": {},
   "outputs": [],
   "source": [
    "graph = StateGraph(prompt_chain)\n",
    "\n",
    "graph.add_node('get_outline', get_outline)\n",
    "graph.add_node('get_final_blog', get_final_blog)\n",
    "\n",
    "graph.add_edge(START, 'get_outline')\n",
    "graph.add_edge('get_outline', 'get_final_blog')\n",
    "graph.add_edge('get_final_blog',END)\n",
    "\n",
    "workflow = graph.compile()"
   ]
  },
  {
   "cell_type": "code",
   "execution_count": 19,
   "id": "81475ddb",
   "metadata": {},
   "outputs": [
    {
     "name": "stdout",
     "output_type": "stream",
     "text": [
      "{'topic': 'Ratan Tata', 'outine': 'Here\\'s a comprehensive outline for a blog post about Ratan Tata, designed to be engaging, informative, and inspiring.\\n\\n---\\n\\n## Blog Post Outline: Ratan Tata - The Architect of Modern India\\'s Global Ambition\\n\\n**Target Audience:** General public, aspiring entrepreneurs, business students, anyone interested in leadership, Indian business, or philanthropy.\\n\\n**Tone:** Respectful, admiring, informative, slightly inspirational.\\n\\n**SEO Keywords:** Ratan Tata, Tata Group, Indian business, leadership, philanthropy, JLR, Nano, Corus, Tata Trusts, corporate ethics.\\n\\n---\\n\\n### I. Catchy Title Options:\\n*   Ratan Tata: A Legacy of Vision, Values, and Global Transformation\\n*   The Quiet Architect: How Ratan Tata Built India\\'s Global Business Empire\\n*   Beyond Billions: The Enduring Impact of Ratan Tata on Business and Society\\n*   Ratan Tata: More Than a Businessman, a Nation Builder\\n\\n### II. Introduction (Approx. 150-200 words)\\n*   **A. Hook:** Start with Ratan Tata\\'s iconic status – a name synonymous with integrity, innovation, and Indian industrial might. Briefly mention his unique position as a leader who prioritizes values over pure profit.\\n*   **B. Brief Background:** Introduce him as the former Chairman of the Tata Group, one of India\\'s oldest and largest conglomerates.\\n*   **C. Thesis Statement:** This blog post will explore Ratan Tata\\'s transformative leadership, his landmark decisions that propelled Tata onto the global stage, and his unwavering commitment to ethics and philanthropy that defines his enduring legacy.\\n\\n### III. Section 1: The Formative Years & The Challenge of Succession (Approx. 200 words)\\n*   **A. Early Life & Education:**\\n    *   Brief mention of his birth into the Tata family (but not directly in the line of succession for long).\\n    *   His education in the US (Cornell, Harvard Business School) – shaping his global perspective.\\n    *   Early career within Tata Group – starting from the ground up (Tata Steel, Nelco).\\n*   **B. Stepping into Giant Shoes:**\\n    *   The immense challenge of succeeding J.R.D. Tata in 1991 – a beloved and legendary figure.\\n    *   The economic liberalization of India – a new era of opportunity and competition.\\n    *   Initial skepticism and resistance from old guard within Tata.\\n\\n### IV. Section 2: Architect of Global Ambition – The Transformation Era (Approx. 300 words)\\n*   **A. Streamlining & Modernization:**\\n    *   Consolidating disparate companies under a unified vision.\\n    *   Focus on performance and global competitiveness.\\n*   **B. Landmark Global Acquisitions:**\\n    *   **Corus (2007):** The bold move into European steel, making Tata Steel a global player.\\n    *   **Jaguar Land Rover (JLR) (2008):**\\n        *   A symbolic acquisition – an Indian company buying iconic British brands.\\n        *   Initial skepticism vs. Ratan Tata\\'s vision and belief in the brands\\' potential.\\n        *   JLR\\'s turnaround under Tata\\'s ownership – a testament to his strategic insight.\\n*   **C. Innovation for the Masses – The Tata Nano (2008):**\\n    *   The vision: A safe, affordable car for Indian families.\\n    *   Challenges faced and lessons learned (production, marketing, perception).\\n    *   Highlighting his commitment to societal benefit, even if the commercial outcome was mixed.\\n\\n### V. Section 3: Beyond Business – A Beacon of Values and Philanthropy (Approx. 250 words)\\n*   **A. The Tata Trusts & Nation Building:**\\n    *   Explaining the unique ownership structure of Tata Group (major portion owned by charitable trusts).\\n    *   Emphasis on \"nation-building\" and social responsibility as core tenets.\\n    *   Areas of impact: education, healthcare, rural development, arts, and culture.\\n*   **B. Ethical Leadership & Crisis Management:**\\n    *   His unwavering commitment to ethics and integrity in all dealings.\\n    *   The inspiring response to the 26/11 Mumbai terror attacks (Taj Hotel) – standing by employees, rebuilding, and demonstrating true leadership in crisis.\\n    *   His reputation as a \"gentleman businessman\" – humility and fairness.\\n\\n### VI. Section 4: The Enduring Legacy and Post-Retirement Influence (Approx. 150 words)\\n*   **A. A New Era of Leadership:** Handing over the reins to Cyrus Mistry, then N. Chandrasekaran.\\n*   **B. Continued Impact:**\\n    *   Mentoring startups and investing in new technologies (e.g., Ola, Paytm, Lenskart).\\n    *   Advisory roles and public speaking engagements.\\n    *   His continued role as a moral compass for Indian business.\\n*   **C. Inspiration for Generations:** His life and work as a blueprint for ethical, visionary leadership.\\n\\n### VII. Conclusion (Approx. 100-150 words)\\n*   **A. Summary of Key Contributions:** Reiterate his role in transforming Tata Group into a global powerhouse, while firmly rooting it in Indian values and social responsibility.\\n*   **B. Ratan Tata\\'s Unique Place:** Emphasize that he is not just a successful businessman, but a national icon who blended ambition with compassion.\\n*   **C. Final Thought/Call to Reflection:** What lessons can current and future leaders draw from Ratan Tata\\'s journey? His legacy is a reminder that true success is measured not just in profits, but in positive impact on people and society.\\n\\n---', 'blog': '## Ratan Tata: The Quiet Architect of India\\'s Global Ambition and Enduring Values\\n\\nIn the annals of Indian business, few names resonate with the gravitas, integrity, and transformative power of **Ratan Tata**. His is a name synonymous not just with industrial might, but with a unique blend of innovation, ethical leadership, and a profound commitment to societal well-being. He stands as a towering figure who prioritized values over pure profit, shaping one of India\\'s oldest and largest conglomerates, the **Tata Group**, into a global powerhouse. This blog post will delve into Ratan Tata\\'s transformative leadership, the landmark decisions that propelled Tata onto the global stage, and his unwavering commitment to ethics and philanthropy that defines his enduring **legacy**.\\n\\n### The Formative Years & The Challenge of Succession\\n\\nBorn into the illustrious Tata family, Ratan Naval Tata\\'s journey wasn\\'t one of immediate inheritance but of diligent preparation. His formative years included a crucial education in the US, earning a degree in architecture from Cornell University and later attending the Advanced Management Program at Harvard Business School. These experiences broadened his perspective, instilling a global outlook that would prove pivotal. His early career within the **Tata Group** saw him start from the ground up, working on the shop floor at Tata Steel and later revitalizing Nelco, an electronics company, gaining invaluable hands-on experience.\\n\\nThe true test of his leadership came in 1991 when he was tasked with the immense challenge of succeeding the legendary J.R.D. Tata as Chairman. J.R.D. was a beloved figure, and Ratan Tata stepped into shoes that seemed impossibly large to fill. This period coincided with India\\'s economic liberalization, ushering in a new era of opportunity but also intense competition. Initially, Ratan Tata faced skepticism and resistance from the old guard within the sprawling Tata empire, who were accustomed to a more decentralized, less integrated approach.\\n\\n### Architect of Global Ambition – The Transformation Era\\n\\nUndeterred, Ratan Tata embarked on a mission to modernize and globalize the Tata Group. He initiated a crucial process of streamlining disparate companies, consolidating them under a unified vision focused on performance and global competitiveness. This strategic realignment laid the groundwork for the audacious moves that would follow.\\n\\nHis tenure is most remembered for a series of landmark global acquisitions that fundamentally reshaped **Indian business**. In 2007, Tata Steel\\'s bold acquisition of European steel giant **Corus** was a game-changer, instantly making Tata Steel a global player and marking India\\'s arrival on the world stage of heavy industry. But perhaps even more symbolic was the 2008 acquisition of **Jaguar Land Rover (JLR)** from Ford. Many viewed this as an Indian company buying ailing British luxury brands, and initial skepticism was rife. However, Ratan Tata\\'s vision and unwavering belief in the brands\\' potential proved prescient. Under Tata\\'s ownership, JLR underwent a remarkable turnaround, becoming a significant profit driver for the group and a testament to his strategic insight and long-term perspective.\\n\\nBeyond mega-acquisitions, Ratan Tata also championed innovation for the masses. The **Tata Nano**, launched in 2008, was his vision of an ultra-affordable, safe car for Indian families. While it faced significant challenges in production, marketing, and perception, its conception highlighted his commitment to societal benefit – making mobility accessible to millions – even if the commercial outcome was mixed. It underscored a leader who dared to dream big for the common person.\\n\\n### Beyond Business – A Beacon of Values and Philanthropy\\n\\nWhat truly sets Ratan Tata apart is his unwavering commitment to values and **philanthropy**. The **Tata Group** has a unique ownership structure; a major portion of its equity is owned by charitable **Tata Trusts**. This means that a significant portion of the group\\'s profits flows back into society, emphasizing \"nation-building\" and social responsibility as core tenets, not just afterthoughts. The Trusts have had a profound impact across various sectors, including education, healthcare, rural development, and the promotion of arts and culture, shaping the very fabric of modern India.\\n\\nRatan Tata\\'s **ethical leadership** was never more evident than during times of crisis. His inspiring response to the horrific 26/11 Mumbai terror attacks in 2008, which severely damaged the Taj Hotel (a Tata property), demonstrated true leadership. He personally stood by his employees, ensured their welfare, and committed to rebuilding the iconic hotel, demonstrating resilience and compassion. Throughout his career, he maintained a reputation as a \"gentleman businessman,\" known for his humility, fairness, and uncompromising integrity in all dealings. This commitment to **corporate ethics** is a cornerstone of his **legacy**.\\n\\n### The Enduring Legacy and Post-Retirement Influence\\n\\nRatan Tata formally handed over the reins of the Tata Group in 2012, first to Cyrus Mistry and later to N. Chandrasekaran, ushering in a new era of leadership. However, his influence did not wane. In his post-retirement years, he has continued to inspire, becoming a mentor to startups and investing in new technologies, supporting companies like Ola, Paytm, and Lenskart. He remains active in advisory roles and public speaking engagements, consistently serving as a moral compass for **Indian business**.\\n\\nHis life and work offer a powerful blueprint for ethical, visionary leadership, inspiring generations of entrepreneurs and leaders to blend ambition with responsibility.\\n\\n### Conclusion\\n\\nRatan Tata\\'s journey is a testament to the power of vision married with values. He transformed the **Tata Group** into a global powerhouse, making bold strategic moves like the **Corus** and **JLR** acquisitions, while firmly rooting it in Indian values and social responsibility through the **Tata Trusts**. He is not just a successful businessman; he is a national icon who blended global ambition with profound compassion.\\n\\nHis **legacy** is a powerful reminder that true success is measured not just in profits or market cap, but in the positive impact on people and society. What lessons can current and future leaders draw from Ratan Tata\\'s journey? Perhaps it is that integrity, long-term vision, and a commitment to nation-building are the most sustainable pathways to both commercial triumph and enduring respect.'}\n"
     ]
    }
   ],
   "source": [
    "#Executing the whole thing\n",
    "\n",
    "initial_state = {'topic' : 'Ratan Tata'}\n",
    "final_state = workflow.invoke(initial_state)\n",
    "print(final_state)"
   ]
  }
 ],
 "metadata": {
  "kernelspec": {
   "display_name": "myvenv",
   "language": "python",
   "name": "python3"
  },
  "language_info": {
   "codemirror_mode": {
    "name": "ipython",
    "version": 3
   },
   "file_extension": ".py",
   "mimetype": "text/x-python",
   "name": "python",
   "nbconvert_exporter": "python",
   "pygments_lexer": "ipython3",
   "version": "3.13.0"
  }
 },
 "nbformat": 4,
 "nbformat_minor": 5
}
