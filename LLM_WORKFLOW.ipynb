{
 "cells": [
  {
   "cell_type": "code",
   "execution_count": 21,
   "id": "e58a7d16",
   "metadata": {},
   "outputs": [],
   "source": [
    "from langchain_google_genai import GoogleGenerativeAI\n",
    "from langgraph.graph import StateGraph, START, END\n",
    "from dotenv import load_dotenv\n",
    "import os\n",
    "from typing import TypedDict\n",
    "from langchain_core.prompts import PromptTemplate"
   ]
  },
  {
   "cell_type": "code",
   "execution_count": 22,
   "id": "ba01e39e",
   "metadata": {},
   "outputs": [
    {
     "data": {
      "text/plain": [
       "True"
      ]
     },
     "execution_count": 22,
     "metadata": {},
     "output_type": "execute_result"
    }
   ],
   "source": [
    "load_dotenv()"
   ]
  },
  {
   "cell_type": "code",
   "execution_count": 23,
   "id": "844382ca",
   "metadata": {},
   "outputs": [],
   "source": [
    "model = GoogleGenerativeAI(\n",
    "    model = 'gemini-2.5-flash',\n",
    "    google_api_key = os.getenv('GEMINI_API_KEY')\n",
    ")"
   ]
  },
  {
   "cell_type": "code",
   "execution_count": 24,
   "id": "b4f82ab4",
   "metadata": {},
   "outputs": [],
   "source": [
    "class LLMState(TypedDict):\n",
    "    question : str\n",
    "    answer : str\n",
    "    "
   ]
  },
  {
   "cell_type": "code",
   "execution_count": 31,
   "id": "cfb5b6a3",
   "metadata": {},
   "outputs": [],
   "source": [
    "def llm_qa(state: LLMState) -> LLMState:\n",
    "\n",
    "    # Extract the question from the state\n",
    "    question = state['question']\n",
    "\n",
    "    # Form a prompt\n",
    "    prompt = f\"Give the answer to the question: {question}\"\n",
    "\n",
    "    # Ask that question to the llm\n",
    "    answer = model.invoke(prompt)\n",
    "\n",
    "    # Get the output and partially update the state\n",
    "    state['answer'] = answer\n",
    "\n",
    "    return state"
   ]
  },
  {
   "cell_type": "code",
   "execution_count": 32,
   "id": "d82fea7b",
   "metadata": {},
   "outputs": [],
   "source": [
    "#Now we will be creating our graph\n",
    "graph = StateGraph(LLMState)\n",
    "\n",
    "graph.add_node('llm_qa', llm_qa)\n",
    "\n",
    "graph.add_edge(START, 'llm_qa')\n",
    "graph.add_edge('llm_qa', END)\n",
    "\n",
    "workflow = graph.compile()"
   ]
  },
  {
   "cell_type": "code",
   "execution_count": 33,
   "id": "d55fe60e",
   "metadata": {},
   "outputs": [
    {
     "name": "stdout",
     "output_type": "stream",
     "text": [
      "{'question': 'What is the name of the first planet of the Solar System?', 'answer': 'The first planet of the Solar System, closest to the Sun, is **Mercury**.'}\n"
     ]
    }
   ],
   "source": [
    "#Execute \n",
    "\n",
    "initial_state = {'question': 'What is the name of the first planet of the Solar System?'}\n",
    "\n",
    "final_state = workflow.invoke(initial_state)\n",
    "print(final_state)"
   ]
  }
 ],
 "metadata": {
  "kernelspec": {
   "display_name": "myvenv",
   "language": "python",
   "name": "python3"
  },
  "language_info": {
   "codemirror_mode": {
    "name": "ipython",
    "version": 3
   },
   "file_extension": ".py",
   "mimetype": "text/x-python",
   "name": "python",
   "nbconvert_exporter": "python",
   "pygments_lexer": "ipython3",
   "version": "3.13.0"
  }
 },
 "nbformat": 4,
 "nbformat_minor": 5
}
