{
 "cells": [
  {
   "cell_type": "code",
   "execution_count": 12,
   "id": "9c2314dd",
   "metadata": {},
   "outputs": [],
   "source": [
    "from langgraph.graph import StateGraph, START, END\n",
    "from typing import TypedDict"
   ]
  },
  {
   "cell_type": "code",
   "execution_count": 27,
   "id": "778d7d87",
   "metadata": {},
   "outputs": [],
   "source": [
    "#Now we need to define the State\n",
    "class BMIState(TypedDict):\n",
    "\n",
    "    weight_kg: float\n",
    "    height_kg: float\n",
    "    bmi: float\n",
    "    category: str"
   ]
  },
  {
   "cell_type": "code",
   "execution_count": 28,
   "id": "d8e622ab",
   "metadata": {},
   "outputs": [],
   "source": [
    "def calculate_bmi(state: BMIState) -> BMIState:\n",
    "    \n",
    "    weight = state['weight_kg']\n",
    "    height = state['height_kg']\n",
    "\n",
    "    bmi = weight/(height**2)\n",
    "\n",
    "    # Here we are partially updating the state\n",
    "    state['bmi'] = round(bmi,2)\n",
    "\n",
    "    return state"
   ]
  },
  {
   "cell_type": "code",
   "execution_count": null,
   "id": "6990c21f",
   "metadata": {},
   "outputs": [],
   "source": [
    "    def label_bmi(state: BMIState) -> BMIState:\n",
    "\n",
    "        bmi = state['bmi']\n",
    "        if bmi < 18.5:\n",
    "            state[\"category\"] = \"Underweight\"\n",
    "        elif 18.5 <= bmi < 25:\n",
    "            state[\"category\"] = \"Normal\"\n",
    "        elif 25 <= bmi < 30:\n",
    "            state[\"category\"] = \"Overweight\"\n",
    "        else:\n",
    "            state[\"category\"] = \"Obese\"\n",
    "\n",
    "        return state"
   ]
  },
  {
   "cell_type": "code",
   "execution_count": 31,
   "id": "743f8a67",
   "metadata": {},
   "outputs": [],
   "source": [
    "#define the graph\n",
    "graph = StateGraph(BMIState)\n",
    "\n",
    "#Add Nodes\n",
    "graph.add_node('calculate_bmi', calculate_bmi)\n",
    "graph.add_node('label_bmi', label_bmi)\n",
    "\n",
    "#Add edges to the graph\n",
    "graph.add_edge(START, 'calculate_bmi')\n",
    "graph.add_edge( 'calculate_bmi', 'label_bmi')\n",
    "graph.add_edge('label_bmi', END)\n",
    "\n",
    "#Compile the graph\n",
    "workflow = graph.compile()\n"
   ]
  },
  {
   "cell_type": "code",
   "execution_count": 32,
   "id": "3f9b98ce",
   "metadata": {},
   "outputs": [
    {
     "name": "stdout",
     "output_type": "stream",
     "text": [
      "{'weight_kg': 80, 'height_kg': 1.67, 'bmi': 28.69, 'category': 'Overweight'}\n"
     ]
    }
   ],
   "source": [
    "#Execute the Graph\n",
    "initial_State= {'weight_kg': 80, 'height_kg':1.67}\n",
    "final_state= workflow.invoke(initial_State)\n",
    "\n",
    "print(final_state)\n"
   ]
  },
  {
   "cell_type": "markdown",
   "id": "0292a198",
   "metadata": {},
   "source": [
    "### LLM Workflow\n"
   ]
  },
  {
   "cell_type": "code",
   "execution_count": 33,
   "id": "c40663e4",
   "metadata": {},
   "outputs": [],
   "source": [
    "from langchain_google_genai import GoogleGenerativeAI\n",
    "from langgraph.graph import StateGraph, START, END\n",
    "from dotenv import load_dotenv\n",
    "import os\n",
    "from typing import TypedDict"
   ]
  },
  {
   "cell_type": "code",
   "execution_count": 34,
   "id": "19b46c27",
   "metadata": {},
   "outputs": [
    {
     "data": {
      "text/plain": [
       "True"
      ]
     },
     "execution_count": 34,
     "metadata": {},
     "output_type": "execute_result"
    }
   ],
   "source": [
    "load_dotenv()"
   ]
  },
  {
   "cell_type": "code",
   "execution_count": null,
   "id": "76fc9795",
   "metadata": {},
   "outputs": [],
   "source": [
    "model = GoogleGenerativeAI(\n",
    "    model = 'Gemini-2.5-flash',\n",
    "    google_api_key = os.getenv('GEMINI_API_KEY')\n",
    ")\n",
    "\n"
   ]
  }
 ],
 "metadata": {
  "kernelspec": {
   "display_name": "myvenv",
   "language": "python",
   "name": "python3"
  },
  "language_info": {
   "codemirror_mode": {
    "name": "ipython",
    "version": 3
   },
   "file_extension": ".py",
   "mimetype": "text/x-python",
   "name": "python",
   "nbconvert_exporter": "python",
   "pygments_lexer": "ipython3",
   "version": "3.13.0"
  }
 },
 "nbformat": 4,
 "nbformat_minor": 5
}
