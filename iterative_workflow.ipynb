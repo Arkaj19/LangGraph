{
 "cells": [
  {
   "cell_type": "code",
   "execution_count": 72,
   "id": "3fa3892a",
   "metadata": {},
   "outputs": [],
   "source": [
    "from langgraph.graph import StateGraph, END, START\n",
    "from langchain_google_genai import ChatGoogleGenerativeAI\n",
    "from pydantic import BaseModel, Field\n",
    "from typing import TypedDict, Literal, Annotated\n",
    "from langchain_core.messages import SystemMessage, HumanMessage\n",
    "import os\n",
    "from dotenv import load_dotenv"
   ]
  },
  {
   "cell_type": "code",
   "execution_count": 73,
   "id": "a3d4219c",
   "metadata": {},
   "outputs": [
    {
     "data": {
      "text/plain": [
       "True"
      ]
     },
     "execution_count": 73,
     "metadata": {},
     "output_type": "execute_result"
    }
   ],
   "source": [
    "load_dotenv()"
   ]
  },
  {
   "cell_type": "code",
   "execution_count": 74,
   "id": "250b0166",
   "metadata": {},
   "outputs": [
    {
     "name": "stderr",
     "output_type": "stream",
     "text": [
      "E0000 00:00:1759657625.588559 3833133 alts_credentials.cc:93] ALTS creds ignored. Not running on GCP and untrusted ALTS is not enabled.\n"
     ]
    }
   ],
   "source": [
    "generator_llm = ChatGoogleGenerativeAI(\n",
    "    model = 'gemini-2.5-flash',\n",
    "    google_api_key = os.getenv('GEMINI_API_KEY')\n",
    ")"
   ]
  },
  {
   "cell_type": "code",
   "execution_count": 75,
   "id": "76f892e6",
   "metadata": {},
   "outputs": [
    {
     "name": "stderr",
     "output_type": "stream",
     "text": [
      "E0000 00:00:1759657625.594103 3833133 alts_credentials.cc:93] ALTS creds ignored. Not running on GCP and untrusted ALTS is not enabled.\n"
     ]
    }
   ],
   "source": [
    "evaluator_llm = ChatGoogleGenerativeAI(\n",
    "    model = 'gemini-2.5-flash',\n",
    "    google_api_key = os.getenv('GEMINI_API_KEY')\n",
    ")"
   ]
  },
  {
   "cell_type": "code",
   "execution_count": 76,
   "id": "92e68fd5",
   "metadata": {},
   "outputs": [
    {
     "name": "stderr",
     "output_type": "stream",
     "text": [
      "E0000 00:00:1759657625.599042 3833133 alts_credentials.cc:93] ALTS creds ignored. Not running on GCP and untrusted ALTS is not enabled.\n"
     ]
    }
   ],
   "source": [
    "optimizer_llm = ChatGoogleGenerativeAI(\n",
    "    model = 'gemini-2.5-flash',\n",
    "    google_api_key = os.getenv('GEMINI_API_KEY')\n",
    ")"
   ]
  },
  {
   "cell_type": "code",
   "execution_count": 77,
   "id": "3c3e555f",
   "metadata": {},
   "outputs": [],
   "source": [
    "class TweetState(TypedDict):\n",
    "\n",
    "    topic : str\n",
    "    tweet : str\n",
    "    evaluation : Literal[\"approved\", \"needs_improvement\"]\n",
    "    feedback : str\n",
    "    iteration : str\n",
    "    max_iteration : int"
   ]
  },
  {
   "cell_type": "code",
   "execution_count": 78,
   "id": "10a0bd12",
   "metadata": {},
   "outputs": [],
   "source": [
    "from pydantic import BaseModel, Field\n",
    "\n",
    "class TweetEvaluation(BaseModel):\n",
    "    evaluation: Literal[\"approved\", \"needs_improvement\"] = Field(..., description=\"Final evaluation result.\")\n",
    "    feedback: str = Field(..., description=\"feedback for the tweet.\")"
   ]
  },
  {
   "cell_type": "code",
   "execution_count": 79,
   "id": "45db2d4f",
   "metadata": {},
   "outputs": [],
   "source": [
    "structured_evaluator_llm = evaluator_llm.with_structured_output(TweetEvaluation)"
   ]
  },
  {
   "cell_type": "code",
   "execution_count": 80,
   "id": "74564588",
   "metadata": {},
   "outputs": [],
   "source": [
    "def generate_tweet( state: TweetState):\n",
    "\n",
    "    #prompt\n",
    "    messages = [\n",
    "    SystemMessage(content=\"You are a funny and clever Twitter/X influencer.\"),\n",
    "    HumanMessage(content=f\"\"\"\n",
    "    Write a short, original, and hilarious tweet on the topic: \"{state['topic']}\".\n",
    "\n",
    "    Rules:\n",
    "    - Do NOT use question-answer format.\n",
    "    - Max 280 characters.\n",
    "    - Use observational humor, irony, sarcasm, or cultural references.\n",
    "    - Think in meme logic, punchlines, or relatable takes.\n",
    "    - Use simple, day to day english\n",
    "    - This is version {state['iteration'] + 1}.\n",
    "    \"\"\")\n",
    "    ]\n",
    "\n",
    "    #generator llm\n",
    "    response = generator_llm.invoke(messages).content\n",
    "\n",
    "    return {'tweet' : response}"
   ]
  },
  {
   "cell_type": "code",
   "execution_count": 81,
   "id": "d18e6d85",
   "metadata": {},
   "outputs": [],
   "source": [
    "def evaluate_tweet ( state : TweetState):\n",
    "\n",
    "    messages = [\n",
    "    SystemMessage(content=\"You are a ruthless, no-laugh-given Twitter Critic. You evaluate tweets based on humor, originality, virality, and tweet format.\"),\n",
    "    HumanMessage(content=f\"\"\"\n",
    "    Evaluate the following tweet:\n",
    "\n",
    "    Tweet: \"{state['tweet']}\"\n",
    "\n",
    "    Use the criteria below to evaluate the tweet:\n",
    "\n",
    "    1. Originality - Is this fresh, or have you seen it a hundred times before?\n",
    "    2. Humor - Did it genuinely make you smile, laugh, or chuckle?\n",
    "    3. Punchiness - Is it short, sharp, and scroll-stopping?\n",
    "    4. Virality Potential - Would people retweet or share it?\n",
    "    5. Format - Is it a well-formed tweet (not a setup-punchline joke, not a Q&A joke, and under 280 characters)?\n",
    "\n",
    "    Auto-reject if:\n",
    "    - It's written in question-answer format (e.g., \"Why did...\" or \"What happens when...\")\n",
    "    - It exceeds 280 characters\n",
    "    - It reads like a traditional setup-punchline joke\n",
    "    - Dont end with generic, throwaway, or deflating lines that weaken the humor (e.g., \"Masterpieces of the auntie-uncle universe\" or vague summaries)\n",
    "\n",
    "    ### Respond ONLY in structured format:\n",
    "    evaluation: \"approved\" or \"needs_improvement\"\n",
    "    feedback: One paragraph explaining the strengths and weaknesses\n",
    "    \"\"\")\n",
    "    ]\n",
    "\n",
    "    response = structured_evaluator_llm.invoke(messages)\n",
    "\n",
    "    return { 'evaluation' : response.evaluation, 'feedback' : response.feedback}"
   ]
  },
  {
   "cell_type": "code",
   "execution_count": 82,
   "id": "4e40e75d",
   "metadata": {},
   "outputs": [],
   "source": [
    "def optimize_tweet ( state : TweetState):\n",
    "\n",
    "    messages = [\n",
    "    SystemMessage(content=\"You punch up tweets for virality and humor based on given feedback.\"),\n",
    "    HumanMessage(content=f\"\"\"\n",
    "    Improve the tweet based on this feedback:\n",
    "    \"{state['feedback']}\"\n",
    "\n",
    "    Topic: \"{state['topic']}\"\n",
    "    Original Tweet:\n",
    "    {state['tweet']}\n",
    "\n",
    "    Re-write it as a short, viral-worthy tweet. Avoid Q&A style and stay under 280 characters.\n",
    "    \"\"\")\n",
    "    ]\n",
    "\n",
    "    response = optimizer_llm.invoke(messages).content\n",
    "    iteration = state['iteration'] + 1\n",
    "\n",
    "    return { 'tweet' : response , 'iteration' : iteration}\n"
   ]
  },
  {
   "cell_type": "code",
   "execution_count": 83,
   "id": "67820b0e",
   "metadata": {},
   "outputs": [],
   "source": [
    "def route_evaluation ( state : TweetState):\n",
    "\n",
    "    if state['evaluation'] == 'approved' or state['iteration'] >= state['max_iteration']:\n",
    "        return 'approved'\n",
    "    else:\n",
    "        return 'needs_improvement'"
   ]
  },
  {
   "cell_type": "code",
   "execution_count": 84,
   "id": "b5b1ae58",
   "metadata": {},
   "outputs": [],
   "source": [
    "graph = StateGraph(TweetState)\n",
    "\n",
    "graph.add_node('generate', generate_tweet )\n",
    "graph.add_node('evaluate', evaluate_tweet )\n",
    "graph.add_node('optimize', optimize_tweet )\n",
    "\n",
    "graph.add_edge( START, 'generate')\n",
    "graph.add_edge( 'generate', 'evaluate' )\n",
    "\n",
    "# On the basis of the evaluate the iteration is needed to be performed.\n",
    "graph.add_conditional_edges( 'evaluate', route_evaluation, {'approved' : END, 'needs_improvement' : 'optimize'})\n",
    "#Here the connection has been created and now the returning link is to be created between the optimize and the generate\n",
    "\n",
    "graph.add_edge( 'optimize', 'generate')\n",
    "\n",
    "workflow = graph.compile()\n"
   ]
  },
  {
   "cell_type": "code",
   "execution_count": 85,
   "id": "deb3da19",
   "metadata": {},
   "outputs": [
    {
     "data": {
      "image/png": "[encoded data removed]",
      "text/plain": [
       "<langgraph.graph.state.CompiledStateGraph object at 0x1195dd6d0>"
      ]
     },
     "execution_count": 85,
     "metadata": {},
     "output_type": "execute_result"
    }
   ],
   "source": [
    "workflow"
   ]
  },
  {
   "cell_type": "code",
   "execution_count": 86,
   "id": "7ce36435",
   "metadata": {},
   "outputs": [
    {
     "data": {
      "text/plain": [
       "{'topic': 'Indian Army',\n",
       " 'tweet': 'My phone battery dropping below 50% gives me anxiety. Meanwhile, the Indian Army probably runs on pure willpower and the belief that chai will appear anywhere, anytime. Legend.',\n",
       " 'evaluation': 'approved',\n",
       " 'feedback': 'The tweet effectively uses relatable anxiety about phone battery life to create a humorous contrast with the perceived resilience of the Indian Army, powered by willpower and the ubiquitous availability of chai. The specific detail about chai appearing \"anywhere, anytime\" adds a strong comedic element and cultural resonance, enhancing both its humor and potential for virality. The format is appropriate for Twitter, avoiding common pitfalls like Q&A or setup-punchline structures, and it stays well within the character limit, making it a well-crafted and engaging post.',\n",
       " 'iteration': 0,\n",
       " 'max_iteration': 5}"
      ]
     },
     "execution_count": 86,
     "metadata": {},
     "output_type": "execute_result"
    }
   ],
   "source": [
    "initial_state = {\n",
    "\n",
    "    'topic' : 'Indian Army',\n",
    "    'iteration' : 0,\n",
    "    'max_iteration': 5\n",
    "}\n",
    "\n",
    "workflow.invoke(initial_state)"
   ]
  }
 ],
 "metadata": {
  "kernelspec": {
   "display_name": "myvenv (3.13.5)",
   "language": "python",
   "name": "python3"
  },
  "language_info": {
   "codemirror_mode": {
    "name": "ipython",
    "version": 3
   },
   "file_extension": ".py",
   "mimetype": "text/x-python",
   "name": "python",
   "nbconvert_exporter": "python",
   "pygments_lexer": "ipython3",
   "version": "3.13.5"
  }
 },
 "nbformat": 4,
 "nbformat_minor": 5
}
