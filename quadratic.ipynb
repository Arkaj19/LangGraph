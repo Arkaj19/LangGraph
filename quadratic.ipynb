{
 "cells": [
  {
   "cell_type": "code",
   "execution_count": 2,
   "id": "c83e5684",
   "metadata": {},
   "outputs": [
    {
     "name": "stderr",
     "output_type": "stream",
     "text": [
      "c:\\Users\\ArkajyotiKarmakar\\OneDrive - GyanSys Inc\\Desktop\\Langgraph\\myvenv\\Lib\\site-packages\\tqdm\\auto.py:21: TqdmWarning: IProgress not found. Please update jupyter and ipywidgets. See https://ipywidgets.readthedocs.io/en/stable/user_install.html\n",
      "  from .autonotebook import tqdm as notebook_tqdm\n",
      "None of PyTorch, TensorFlow >= 2.0, or Flax have been found. Models won't be available and only tokenizers, configuration and file/data utilities can be used.\n"
     ]
    }
   ],
   "source": [
    "from langgraph.graph import StateGraph, END, START\n",
    "from langchain_google_genai import ChatGoogleGenerativeAI\n",
    "from typing import TypedDict, Annotated, Literal\n",
    "from dotenv import load_dotenv\n",
    "import os"
   ]
  },
  {
   "cell_type": "code",
   "execution_count": 3,
   "id": "048bd3a2",
   "metadata": {},
   "outputs": [
    {
     "data": {
      "text/plain": [
       "True"
      ]
     },
     "execution_count": 3,
     "metadata": {},
     "output_type": "execute_result"
    }
   ],
   "source": [
    "load_dotenv()"
   ]
  },
  {
   "cell_type": "code",
   "execution_count": 4,
   "id": "b7c9e8e4",
   "metadata": {},
   "outputs": [],
   "source": [
    "model = ChatGoogleGenerativeAI(\n",
    "    model = 'gemini-2.5-flash',\n",
    "    google_api_key = os.getenv('GEMINI_API_KEY')\n",
    ")"
   ]
  },
  {
   "cell_type": "code",
   "execution_count": 5,
   "id": "7bb8bb35",
   "metadata": {},
   "outputs": [],
   "source": [
    "class Quadratic(TypedDict):\n",
    "\n",
    "    a: int\n",
    "    b: int\n",
    "    c: int\n",
    "\n",
    "    equation : str\n",
    "    discriminant : float\n",
    "    result : str"
   ]
  },
  {
   "cell_type": "code",
   "execution_count": 6,
   "id": "4a6fa7d2",
   "metadata": {},
   "outputs": [],
   "source": [
    "def show_equation( state : Quadratic) -> Quadratic:\n",
    "\n",
    "    equation = f\"{state['a']**2} + {state['b']}x + {state['c']}\"\n",
    "    return {equation : equation}\n"
   ]
  },
  {
   "cell_type": "code",
   "execution_count": null,
   "id": "67067d14",
   "metadata": {},
   "outputs": [],
   "source": [
    "def cal_discriminant(state : Quadratic) -> Quadratic:\n",
    "\n",
    "    discriminant = "
   ]
  },
  {
   "cell_type": "code",
   "execution_count": null,
   "id": "0efc97b3",
   "metadata": {},
   "outputs": [],
   "source": [
    "graph =  StateGraph(Quadratic)\n",
    "\n",
    "graph.add_node('show_equation', show_equation)\n",
    "graph.add_node('cal_discriminant', cal_discriminant)\n"
   ]
  }
 ],
 "metadata": {
  "kernelspec": {
   "display_name": "myvenv",
   "language": "python",
   "name": "python3"
  },
  "language_info": {
   "codemirror_mode": {
    "name": "ipython",
    "version": 3
   },
   "file_extension": ".py",
   "mimetype": "text/x-python",
   "name": "python",
   "nbconvert_exporter": "python",
   "pygments_lexer": "ipython3",
   "version": "3.13.0"
  }
 },
 "nbformat": 4,
 "nbformat_minor": 5
}
