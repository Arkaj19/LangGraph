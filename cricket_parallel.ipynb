{
 "cells": [
  {
   "cell_type": "code",
   "execution_count": 1,
   "id": "be8dcdaa",
   "metadata": {},
   "outputs": [
    {
     "name": "stderr",
     "output_type": "stream",
     "text": [
      "c:\\Users\\ArkajyotiKarmakar\\OneDrive - GyanSys Inc\\Desktop\\Langgraph\\myvenv\\Lib\\site-packages\\tqdm\\auto.py:21: TqdmWarning: IProgress not found. Please update jupyter and ipywidgets. See https://ipywidgets.readthedocs.io/en/stable/user_install.html\n",
      "  from .autonotebook import tqdm as notebook_tqdm\n",
      "None of PyTorch, TensorFlow >= 2.0, or Flax have been found. Models won't be available and only tokenizers, configuration and file/data utilities can be used.\n"
     ]
    }
   ],
   "source": [
    "from langgraph.graph import StateGraph, END, START\n",
    "from langchain_google_genai import ChatGoogleGenerativeAI\n",
    "from typing import TypedDict, Annotated\n",
    "from dotenv import load_dotenv\n",
    "import operator\n",
    "import os\n",
    "from langchain_core.prompts import PromptTemplate"
   ]
  },
  {
   "cell_type": "code",
   "execution_count": 2,
   "id": "b69a76f7",
   "metadata": {},
   "outputs": [
    {
     "data": {
      "text/plain": [
       "True"
      ]
     },
     "execution_count": 2,
     "metadata": {},
     "output_type": "execute_result"
    }
   ],
   "source": [
    "load_dotenv()"
   ]
  },
  {
   "cell_type": "code",
   "execution_count": 3,
   "id": "a8d1d8e4",
   "metadata": {},
   "outputs": [],
   "source": [
    "model = ChatGoogleGenerativeAI(\n",
    "    model = 'gemini-2.5-flash',\n",
    "    google_api_key = os.getenv('GEMINI_API_KEY')\n",
    ")"
   ]
  },
  {
   "cell_type": "code",
   "execution_count": 4,
   "id": "6757e28b",
   "metadata": {},
   "outputs": [],
   "source": [
    "class BatsmanStats(TypedDict):\n",
    "\n",
    "    # runs: int\n",
    "    # balls: int\n",
    "    # fours : int\n",
    "    # sixes : int\n",
    "    runs: Annotated[int, operator.add]\n",
    "    balls: Annotated[int, operator.add]\n",
    "    fours: Annotated[int, operator.add]\n",
    "    sixes: Annotated[int, operator.add]\n",
    "\n",
    "    sr: float\n",
    "    bpb: float\n",
    "    boundary_percentage: float\n",
    "    \n",
    "    summary : str\n"
   ]
  },
  {
   "cell_type": "code",
   "execution_count": 5,
   "id": "10c243e7",
   "metadata": {},
   "outputs": [],
   "source": [
    "def calculate_sr(state: BatsmanStats) -> BatsmanStats:\n",
    "\n",
    "    runs = state['runs']\n",
    "    balls = state['balls']\n",
    "\n",
    "    strike_rate = (float)(runs / balls) * 100\n",
    "\n",
    "    return {'sr': strike_rate}"
   ]
  },
  {
   "cell_type": "code",
   "execution_count": 6,
   "id": "12dbce40",
   "metadata": {},
   "outputs": [],
   "source": [
    "def calculate_bpb(state: BatsmanStats) -> BatsmanStats:\n",
    "\n",
    "    runs = state['runs']\n",
    "    balls = state['balls']\n",
    "    fours = state['fours']\n",
    "    sixes = state['sixes']\n",
    "\n",
    "    total = fours + sixes\n",
    "    \n",
    "    bpb = (float)(total / balls)\n",
    "\n",
    "    return {'bpb': bpb}"
   ]
  },
  {
   "cell_type": "code",
   "execution_count": 7,
   "id": "fefa7b37",
   "metadata": {},
   "outputs": [],
   "source": [
    "def cal_percent(state: BatsmanStats) -> BatsmanStats:\n",
    "\n",
    "    runs = state['runs']\n",
    "    balls = state['balls']\n",
    "    fours = state['fours']\n",
    "    sixes = state['sixes']\n",
    "\n",
    "    total_runs = fours * 4 + sixes * 6\n",
    "\n",
    "    # Calculating boundary percentage\n",
    "\n",
    "    percent = (float)((total_runs / runs) * 100 )\n",
    "\n",
    "    return {'boundary_percentage' : percent}"
   ]
  },
  {
   "cell_type": "code",
   "execution_count": 8,
   "id": "da20a441",
   "metadata": {},
   "outputs": [],
   "source": [
    "def gen_summary(state: BatsmanStats) -> BatsmanStats:\n",
    "\n",
    "    sr = state['sr']\n",
    "    bpb = state['bpb']\n",
    "    percent = state['boundary_percentage']\n",
    "    runs = state['runs']\n",
    "    balls = state['balls']\n",
    "    fours = state['fours']\n",
    "    sixes = state['sixes']\n",
    "    \n",
    "    prompt = f\"Generate a detailed summary which tells about the metrics as if in a Cricket Commentary style : Strike Rate - {sr} , Boundary Percentage - {percent}, Balls Per Boundary - {bpb} , Runs - {runs}, Sixes - {sixes}, Fours - {fours}, balls - { balls} in Hindi\"\n",
    "\n",
    "    result = model.invoke(prompt).content\n",
    "    \n",
    "    return {'summary': result}"
   ]
  },
  {
   "cell_type": "code",
   "execution_count": 12,
   "id": "fcdff3e7",
   "metadata": {},
   "outputs": [
    {
     "data": {
      "image/png": "[encoded data removed]",
      "text/plain": [
       "<IPython.core.display.Image object>"
      ]
     },
     "execution_count": 12,
     "metadata": {},
     "output_type": "execute_result"
    }
   ],
   "source": [
    "graph = StateGraph(BatsmanStats)\n",
    "\n",
    "graph.add_node('calculate_sr', calculate_sr)\n",
    "graph.add_node('calculate_bpb', calculate_bpb)\n",
    "graph.add_node('cal_percent', cal_percent)\n",
    "graph.add_node('gen_summary', gen_summary)\n",
    "\n",
    "graph.add_edge( START, 'calculate_sr')\n",
    "graph.add_edge( START, 'calculate_bpb')\n",
    "graph.add_edge( START, 'cal_percent')\n",
    "graph.add_edge( 'calculate_sr', 'gen_summary')\n",
    "graph.add_edge( 'calculate_bpb', 'gen_summary')\n",
    "graph.add_edge( 'cal_percent', 'gen_summary')\n",
    "graph.add_edge( 'gen_summary', END )\n",
    "\n",
    "workflow = graph.compile()\n",
    "from IPython.display import Image\n",
    "Image(workflow.get_graph().draw_mermaid_png())\n"
   ]
  },
  {
   "cell_type": "code",
   "execution_count": 11,
   "id": "73bdaf9d",
   "metadata": {},
   "outputs": [
    {
     "name": "stdout",
     "output_type": "stream",
     "text": [
      "{'runs': 85, 'balls': 52, 'fours': 8, 'sixes': 6, 'sr': 163.46153846153845, 'bpb': 0.2692307692307692, 'boundary_percentage': 80.0, 'summary': 'वाह! क्या शानदार आंकड़े हैं! आइए, इन आंकड़ों को एक तूफानी क्रिकेट कमेंट्री के अंदाज़ में समझते हैं:\\n\\n**(कमेंटेटर 1, उत्साह से)**\\n\"नमस्कार दर्शकों! क्रिकेट के मैदान से एक बार फिर हम हाज़िर हैं आपके साथ, और आज हम जिस पारी की चर्चा करने जा रहे हैं, वो सिर्फ आंकड़े नहीं, बल्कि एक तूफानी प्रदर्शन की गाथा है! गेंदबाज़ों के लिए ये किसी बुरे सपने से कम नहीं रही होगी!\"\\n\\n**(कमेंटेटर 2, आंकड़ों पर ज़ोर देते हुए)**\\n\"बिल्कुल सही कहा आपने! देखिए, बल्लेबाज ने कुल **52 गेंदों** का सामना किया और बनाए **85 रन**! ये तो सिर्फ शुरुआत है, असली मज़ा तो अब आएगा!\"\\n\\n**(कमेंटेटर 1, स्ट्राइक रेट पर फोकस करते हुए)**\\n\"और इन 85 रनों को बनाने के लिए जो अंदाज़ अपनाया गया, वो था एकदम तेज़ तर्रार! **स्ट्राइक रेट देखिए - 163.46!** ये बताता है कि बल्लेबाज ने एक भी गेंद बर्बाद नहीं की, हर गेंद को रन बनाने के इरादे से देखा और उसे बाउंड्री पार पहुंचाने की कोशिश की!\"\\n\\n**(कमेंटेटर 2, बाउंड्री की बरसात का वर्णन करते हुए)**\\n\"तेज़ तर्रार ही नहीं, बल्कि बाउंड्रीज़ की बरसात! इस पारी में **8 शानदार चौके** और **6 गगनचुंबी छक्के** देखने को मिले हैं! यानी, 8 चौके और 6 छक्के मिलकर कुल 68 रन सिर्फ बाउंड्री से आए हैं! कल्पना कीजिए, गेंदबाज़ों पर क्या दबाव रहा होगा!\"\\n\\n**(कमेंटेटर 1, बाउंड्री परसेंटेज पर अचरज व्यक्त करते हुए)**\\n\"दबाव ही नहीं, बल्कि ये आंकड़े तो होश उड़ाने वाले हैं! **बाउंड्री परसेंटेज - 80.0%**! जी हां, आपने बिल्कुल सही सुना! कुल 85 रनों में से 80% रन सिर्फ चौकों और छक्कों से आए हैं! ये दिखाता है कि बल्लेबाज ने जोखिम लिया और हर मौके को भुनाया!\"\\n\\n**(कमेंटेटर 2, \\'बॉल्स पर बाउंड्री\\' को समझाते हुए)**\\n\"और बाउंड्री की रफ्तार का आलम ये था कि **बाउंड्री लगाने के लिए औसतन सिर्फ 0.269 गेंदों का सामना करना पड़ा!** इसे ऐसे समझिए कि लगभग हर तीसरी या चौथी गेंद पर एक बाउंड्री आई है! गेंदबाज़ों को संभलने का मौका ही नहीं मिला, वो बस बाउंड्री के बाद अगली गेंद फेंकते रहे और फिर बाउंड्री! ये एक अविश्वसनीय प्रदर्शन है!\"\\n\\n**(कमेंटेटर 1, निष्कर्ष निकालते हुए)**\\n\"तो कुल मिलाकर, 52 गेंदों में 85 रन, 163 से ऊपर का स्ट्राइक रेट, 8 चौके, 6 छक्के, 80% रन बाउंड्री से और हर चौथी गेंद पर एक बाउंड्री... ये सिर्फ आंकड़े नहीं हैं, ये एक मास्टरक्लास है कि टी-20 क्रिकेट कैसे खेला जाता है! एक ऐसी पारी जिसने दर्शकों का भरपूर मनोरंजन किया और गेंदबाज़ों को सोचने पर मजबूर कर दिया!\"\\n\\n**(कमेंटेटर 2)**\\n\"बेशक! एक यादगार और आक्रामक पारी की ये शानदार झलक थी! आज के लिए बस इतना ही, नमस्कार!\"'}\n"
     ]
    }
   ],
   "source": [
    "initial_state = {\n",
    "    'runs': 85,\n",
    "    'balls': 52,\n",
    "    'fours': 8,\n",
    "    'sixes': 6\n",
    "}\n",
    "\n",
    "final_State = workflow.invoke(initial_state)\n",
    "print(final_State)"
   ]
  }
 ],
 "metadata": {
  "kernelspec": {
   "display_name": "myvenv",
   "language": "python",
   "name": "python3"
  },
  "language_info": {
   "codemirror_mode": {
    "name": "ipython",
    "version": 3
   },
   "file_extension": ".py",
   "mimetype": "text/x-python",
   "name": "python",
   "nbconvert_exporter": "python",
   "pygments_lexer": "ipython3",
   "version": "3.13.0"
  }
 },
 "nbformat": 4,
 "nbformat_minor": 5
}
