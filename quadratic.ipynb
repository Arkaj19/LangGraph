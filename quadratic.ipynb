{
 "cells": [
  {
   "cell_type": "code",
   "execution_count": 77,
   "id": "c83e5684",
   "metadata": {},
   "outputs": [],
   "source": [
    "from langgraph.graph import StateGraph, END, START\n",
    "from langchain_google_genai import ChatGoogleGenerativeAI\n",
    "from typing import TypedDict, Annotated, Literal\n",
    "from dotenv import load_dotenv\n",
    "import os"
   ]
  },
  {
   "cell_type": "code",
   "execution_count": 78,
   "id": "048bd3a2",
   "metadata": {},
   "outputs": [
    {
     "data": {
      "text/plain": [
       "True"
      ]
     },
     "execution_count": 78,
     "metadata": {},
     "output_type": "execute_result"
    }
   ],
   "source": [
    "load_dotenv()"
   ]
  },
  {
   "cell_type": "code",
   "execution_count": 79,
   "id": "b7c9e8e4",
   "metadata": {},
   "outputs": [
    {
     "name": "stderr",
     "output_type": "stream",
     "text": [
      "E0000 00:00:1759522056.867967 3533836 alts_credentials.cc:93] ALTS creds ignored. Not running on GCP and untrusted ALTS is not enabled.\n"
     ]
    }
   ],
   "source": [
    "model = ChatGoogleGenerativeAI(\n",
    "    model = 'gemini-2.5-flash',\n",
    "    google_api_key = os.getenv('GEMINI_API_KEY')\n",
    ")"
   ]
  },
  {
   "cell_type": "code",
   "execution_count": 80,
   "id": "7bb8bb35",
   "metadata": {},
   "outputs": [],
   "source": [
    "class Quadratic(TypedDict):\n",
    "\n",
    "    a: int\n",
    "    b: int\n",
    "    c: int\n",
    "\n",
    "    equation : str\n",
    "    discriminant : float\n",
    "    result : str"
   ]
  },
  {
   "cell_type": "code",
   "execution_count": 81,
   "id": "4a6fa7d2",
   "metadata": {},
   "outputs": [],
   "source": [
    "def show_equation( state : Quadratic) -> Quadratic:\n",
    "\n",
    "    equation = f\"{state['a']}x² + {state['b']}x + {state['c']}\"\n",
    "    return {'equation' : equation}\n"
   ]
  },
  {
   "cell_type": "code",
   "execution_count": 82,
   "id": "67067d14",
   "metadata": {},
   "outputs": [],
   "source": [
    "def cal_discriminant(state : Quadratic) -> Quadratic:\n",
    "\n",
    "    discriminant = state['b']**2 - ( 4*state['a'] * state['c'] )\n",
    "\n",
    "    return {'discriminant' : discriminant }"
   ]
  },
  {
   "cell_type": "code",
   "execution_count": 83,
   "id": "ff4447a1",
   "metadata": {},
   "outputs": [],
   "source": [
    "def real_roots( state: Quadratic) -> Quadratic:\n",
    "\n",
    "    root1 = (-state['b'] + state['discriminant'] ** 0.5)/ (2* state['a'])\n",
    "    root2 = (-state['b'] - state['discriminant'] ** 0.5)/ (2* state['a'])\n",
    "\n",
    "    result = f\"The two roots are {root1} & {root2}\"\n",
    "\n",
    "    return { 'result' : result}\n"
   ]
  },
  {
   "cell_type": "code",
   "execution_count": 84,
   "id": "948eb105",
   "metadata": {},
   "outputs": [],
   "source": [
    "def not_real_roots( state: Quadratic) -> Quadratic:\n",
    "\n",
    "    result = f\"No real roots\"\n",
    "\n",
    "    return { 'result' : result}"
   ]
  },
  {
   "cell_type": "code",
   "execution_count": 85,
   "id": "292091b9",
   "metadata": {},
   "outputs": [],
   "source": [
    "def repeated_roots( state: Quadratic) -> Quadratic:\n",
    "\n",
    "    root = -state['b'] /(2* state['a'])\n",
    "\n",
    "    result = f\"The repeating root is {root}\"\n",
    "\n",
    "    return { 'result' : result}"
   ]
  },
  {
   "cell_type": "code",
   "execution_count": 86,
   "id": "7deb2356",
   "metadata": {},
   "outputs": [],
   "source": [
    "def check_condition( state: Quadratic) -> Literal[\"real_roots\", \"repeated_roots\", \"not_real_roots\"]:\n",
    "\n",
    "    if state[\"discriminant\"] > 0 :\n",
    "        return 'real_roots'\n",
    "    elif state[\"discriminant\"] == 0 :\n",
    "        return 'repeated_roots'\n",
    "    else:\n",
    "        return 'not_real_roots'"
   ]
  },
  {
   "cell_type": "code",
   "execution_count": 87,
   "id": "0efc97b3",
   "metadata": {},
   "outputs": [
    {
     "data": {
      "image/png": "[encoded data removed]",
      "text/plain": [
       "<IPython.core.display.Image object>"
      ]
     },
     "execution_count": 87,
     "metadata": {},
     "output_type": "execute_result"
    }
   ],
   "source": [
    "graph =  StateGraph(Quadratic)\n",
    "\n",
    "graph.add_node('show_equation', show_equation)\n",
    "graph.add_node('cal_discriminant', cal_discriminant)\n",
    "graph.add_node('not_real_roots', not_real_roots )\n",
    "graph.add_node('real_roots', real_roots )\n",
    "graph.add_node('repeated_roots', repeated_roots )\n",
    "\n",
    "\n",
    "\n",
    "graph.add_edge( START, 'show_equation')\n",
    "graph.add_edge( 'show_equation', 'cal_discriminant')\n",
    "graph.add_conditional_edges('cal_discriminant', check_condition)\n",
    "graph.add_edge( 'real_roots', END )\n",
    "graph.add_edge( 'not_real_roots', END )\n",
    "graph.add_edge( 'repeated_roots', END )\n",
    "\n",
    "\n",
    "workflow = graph.compile()\n",
    "from IPython.display import Image\n",
    "Image(workflow.get_graph().draw_mermaid_png())\n",
    "\n"
   ]
  },
  {
   "cell_type": "code",
   "execution_count": 88,
   "id": "ba8da7e0",
   "metadata": {},
   "outputs": [
    {
     "data": {
      "text/plain": [
       "{'a': 4,\n",
       " 'b': -5,\n",
       " 'c': -4,\n",
       " 'equation': '4x² + -5x + -4',\n",
       " 'discriminant': 89,\n",
       " 'result': 'The two roots are 1.8042476415070754 & -0.5542476415070754'}"
      ]
     },
     "execution_count": 88,
     "metadata": {},
     "output_type": "execute_result"
    }
   ],
   "source": [
    "initial_state = {\n",
    "    'a' : 4,\n",
    "    'b' : -5,\n",
    "    'c' : -4\n",
    "}\n",
    "\n",
    "workflow.invoke(initial_state)\n",
    "\n"
   ]
  }
 ],
 "metadata": {
  "kernelspec": {
   "display_name": "myvenv (3.13.5)",
   "language": "python",
   "name": "python3"
  },
  "language_info": {
   "codemirror_mode": {
    "name": "ipython",
    "version": 3
   },
   "file_extension": ".py",
   "mimetype": "text/x-python",
   "name": "python",
   "nbconvert_exporter": "python",
   "pygments_lexer": "ipython3",
   "version": "3.13.5"
  }
 },
 "nbformat": 4,
 "nbformat_minor": 5
}
