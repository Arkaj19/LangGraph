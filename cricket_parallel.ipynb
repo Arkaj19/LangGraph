{
 "cells": [
  {
   "cell_type": "code",
   "execution_count": 1,
   "id": "be8dcdaa",
   "metadata": {},
   "outputs": [
    {
     "name": "stderr",
     "output_type": "stream",
     "text": [
      "/Users/arkajyotikarmakar/LangGraph/LangGraph/myvenv/lib/python3.13/site-packages/tqdm/auto.py:21: TqdmWarning: IProgress not found. Please update jupyter and ipywidgets. See https://ipywidgets.readthedocs.io/en/stable/user_install.html\n",
      "  from .autonotebook import tqdm as notebook_tqdm\n",
      "None of PyTorch, TensorFlow >= 2.0, or Flax have been found. Models won't be available and only tokenizers, configuration and file/data utilities can be used.\n"
     ]
    }
   ],
   "source": [
    "from langgraph.graph import StateGraph, END, START\n",
    "from langchain_google_genai import ChatGoogleGenerativeAI\n",
    "from typing import TypedDict, Annotated\n",
    "from dotenv import load_dotenv\n",
    "import operator\n",
    "import os\n",
    "from langchain_core.prompts import PromptTemplate"
   ]
  },
  {
   "cell_type": "code",
   "execution_count": 2,
   "id": "b69a76f7",
   "metadata": {},
   "outputs": [
    {
     "data": {
      "text/plain": [
       "True"
      ]
     },
     "execution_count": 2,
     "metadata": {},
     "output_type": "execute_result"
    }
   ],
   "source": [
    "load_dotenv()"
   ]
  },
  {
   "cell_type": "code",
   "execution_count": 3,
   "id": "a8d1d8e4",
   "metadata": {},
   "outputs": [
    {
     "name": "stderr",
     "output_type": "stream",
     "text": [
      "WARNING: All log messages before absl::InitializeLog() is called are written to STDERR\n",
      "E0000 00:00:1759517735.515631 3523251 alts_credentials.cc:93] ALTS creds ignored. Not running on GCP and untrusted ALTS is not enabled.\n"
     ]
    }
   ],
   "source": [
    "model = ChatGoogleGenerativeAI(\n",
    "    model = 'gemini-2.5-flash',\n",
    "    google_api_key = os.getenv('GEMINI_API_KEY')\n",
    ")"
   ]
  },
  {
   "cell_type": "code",
   "execution_count": 4,
   "id": "6757e28b",
   "metadata": {},
   "outputs": [],
   "source": [
    "class BatsmanStats(TypedDict):\n",
    "\n",
    "    # runs: int\n",
    "    # balls: int\n",
    "    # fours : int\n",
    "    # sixes : int\n",
    "    runs: Annotated[int, operator.add]\n",
    "    balls: Annotated[int, operator.add]\n",
    "    fours: Annotated[int, operator.add]\n",
    "    sixes: Annotated[int, operator.add]\n",
    "\n",
    "    sr: float\n",
    "    bpb: float\n",
    "    boundary_percentage: float\n",
    "    \n",
    "    summary : str\n"
   ]
  },
  {
   "cell_type": "code",
   "execution_count": 5,
   "id": "10c243e7",
   "metadata": {},
   "outputs": [],
   "source": [
    "def calculate_sr(state: BatsmanStats) -> BatsmanStats:\n",
    "\n",
    "    runs = state['runs']\n",
    "    balls = state['balls']\n",
    "\n",
    "    strike_rate = (float)(runs / balls) * 100\n",
    "\n",
    "    return {'sr': strike_rate}"
   ]
  },
  {
   "cell_type": "code",
   "execution_count": 6,
   "id": "12dbce40",
   "metadata": {},
   "outputs": [],
   "source": [
    "def calculate_bpb(state: BatsmanStats) -> BatsmanStats:\n",
    "\n",
    "    runs = state['runs']\n",
    "    balls = state['balls']\n",
    "    fours = state['fours']\n",
    "    sixes = state['sixes']\n",
    "\n",
    "    total = fours + sixes\n",
    "    \n",
    "    bpb = (float)(total / balls)\n",
    "\n",
    "    return {'bpb': bpb}"
   ]
  },
  {
   "cell_type": "code",
   "execution_count": 7,
   "id": "fefa7b37",
   "metadata": {},
   "outputs": [],
   "source": [
    "def cal_percent(state: BatsmanStats) -> BatsmanStats:\n",
    "\n",
    "    runs = state['runs']\n",
    "    balls = state['balls']\n",
    "    fours = state['fours']\n",
    "    sixes = state['sixes']\n",
    "\n",
    "    total_runs = fours * 4 + sixes * 6\n",
    "\n",
    "    # Calculating boundary percentage\n",
    "\n",
    "    percent = (float)((total_runs / runs) * 100 )\n",
    "\n",
    "    return {'boundary_percentage' : percent}"
   ]
  },
  {
   "cell_type": "code",
   "execution_count": 8,
   "id": "da20a441",
   "metadata": {},
   "outputs": [],
   "source": [
    "def gen_summary(state: BatsmanStats) -> BatsmanStats:\n",
    "\n",
    "    sr = state['sr']\n",
    "    bpb = state['bpb']\n",
    "    percent = state['boundary_percentage']\n",
    "    runs = state['runs']\n",
    "    balls = state['balls']\n",
    "    fours = state['fours']\n",
    "    sixes = state['sixes']\n",
    "    \n",
    "    prompt = f\"Generate a detailed summary which tells about the metrics as if in a Cricket Commentary style : Strike Rate - {sr} , Boundary Percentage - {percent}, Balls Per Boundary - {bpb} , Runs - {runs}, Sixes - {sixes}, Fours - {fours}, balls - { balls} in Hindi\"\n",
    "\n",
    "    result = model.invoke(prompt).content\n",
    "    \n",
    "    return {'summary': result}"
   ]
  },
  {
   "cell_type": "code",
   "execution_count": 9,
   "id": "fcdff3e7",
   "metadata": {},
   "outputs": [
    {
     "data": {
      "image/png": "[encoded data removed]",
      "text/plain": [
       "<IPython.core.display.Image object>"
      ]
     },
     "execution_count": 9,
     "metadata": {},
     "output_type": "execute_result"
    }
   ],
   "source": [
    "graph = StateGraph(BatsmanStats)\n",
    "\n",
    "graph.add_node('calculate_sr', calculate_sr)\n",
    "graph.add_node('calculate_bpb', calculate_bpb)\n",
    "graph.add_node('cal_percent', cal_percent)\n",
    "graph.add_node('gen_summary', gen_summary)\n",
    "\n",
    "graph.add_edge( START, 'calculate_sr')\n",
    "graph.add_edge( START, 'calculate_bpb')\n",
    "graph.add_edge( START, 'cal_percent')\n",
    "graph.add_edge( 'calculate_sr', 'gen_summary')\n",
    "graph.add_edge( 'calculate_bpb', 'gen_summary')\n",
    "graph.add_edge( 'cal_percent', 'gen_summary')\n",
    "graph.add_edge( 'gen_summary', END )\n",
    "\n",
    "workflow = graph.compile()\n",
    "from IPython.display import Image\n",
    "Image(workflow.get_graph().draw_mermaid_png())\n"
   ]
  },
  {
   "cell_type": "code",
   "execution_count": 10,
   "id": "73bdaf9d",
   "metadata": {},
   "outputs": [
    {
     "name": "stdout",
     "output_type": "stream",
     "text": [
      "{'runs': 85, 'balls': 52, 'fours': 8, 'sixes': 6, 'sr': 163.46153846153845, 'bpb': 0.2692307692307692, 'boundary_percentage': 80.0, 'summary': 'वाह! क्या तूफानी पारी रही है! आइए, एक क्रिकेट कमेंट्री के अंदाज़ में इस लाजवाब प्रदर्शन का विश्लेषण करते हैं:\\n\\n**कमेंट्री शुरू:**\\n\\n\"नमस्कार दोस्तों, क्रिकेट के मैदान से सीधी कमेंट्री में आपका स्वागत है! आज हम बात करेंगे एक ऐसी तूफानी पारी की, जिसने आंकड़ों को भी झकझोर कर रख दिया है। यह सिर्फ बल्लेबाजी नहीं थी, यह तो गेंदबाजों के लिए एक अग्निपरीक्षा थी!\"\\n\\n\"मैदान पर एक बल्लेबाज ने सिर्फ **52 गेंदों** का सामना करते हुए धुआंधार **85 रन** बनाए हैं। जी हां, सिर्फ 52 गेंदों में 85 रन! यह तो T20 के भी महारथियों को टक्कर देने वाला प्रदर्शन है!\"\\n\\n\"इनकी **स्ट्राइक रेट** देखिए - **163.46**! यह दिखाता है कि बल्लेबाज ने हर गेंद पर रन बनाने की ठान रखी थी। गेंदबाजों को जरा भी संभलने का मौका नहीं दिया, हर ओवर में रनों की बरसात होती रही। दबाव पूरी तरह से गेंदबाजों पर था!\"\\n\\n\"और अब बात करते हैं बाउंड्री की। कुल रनों का **80.0%** हिस्सा बाउंड्री से आया है! जी हां, पूरे 80 प्रतिशत! मतलब, हर दस में से आठ रन चौके-छक्कों से बटोरे गए। यह बताता है कि बल्लेबाज ने गैप ढूंढने के बजाय सीधे गेंद को बाउंड्री के पार भेजने में विश्वास रखा।\"\\n\\n\"इस पारी में **6 गगनचुंबी छक्के** देखने को मिले, जिसने दर्शकों को झूमने पर मजबूर कर दिया। और साथ ही **8 शानदार चौके** भी लगाए गए, जिन्होंने फील्डरों को सिर्फ गेंद को बा्रोउंड्री के पार जाते देखने का मौका दिया। कुल मिलाकर 14 बार गेंद बाउंड्री के पार गई - क्या कमाल की हिटिंग!\"\\n\\n\"अब इस आंकड़े पर गौर फरमाइए - \\'**बॉल्स पर बाउंड्री**\\' **0.269**! इसे आप ऐसे समझ सकते हैं कि लगभग हर तीसरी-चौथी गेंद पर कोई न कोई बाउंड्री आई है। गेंदबाजों के लिए ये किसी बुरे सपने से कम नहीं था, जब हर गेंद पर उन्हें बाउंड्री की चिंता सता रही थी। उन्हें समझ ही नहीं आ रहा था कि आखिर गेंद डालें तो कहां डालें!\"\\n\\n\"संक्षेप में कहें तो, यह एक ऐसी पारी थी जिसमें रन गति तेज थी, बाउंड्री की बरसात हुई और गेंदबाजों को पूरी तरह से बैकफुट पर धकेल दिया गया। इस बल्लेबाज ने अपनी बल्लेबाजी से दर्शकों का भरपूर मनोरंजन किया और टीम के लिए एक मजबूत नींव रखी। यह आंकड़े सिर्फ नंबर नहीं हैं, यह एक शानदार और आक्रामक बल्लेबाजी का जीता-जागता सबूत हैं!\"\\n\\n\"क्या कमाल की बल्लेबाजी! आज के लिए बस इतना ही, अगले विश्लेषण तक हमें दीजिए इजाज़त!\"\\n\\n**कमेंट्री समाप्त।**'}\n"
     ]
    }
   ],
   "source": [
    "initial_state = {\n",
    "    'runs': 85,\n",
    "    'balls': 52,\n",
    "    'fours': 8,\n",
    "    'sixes': 6\n",
    "}\n",
    "\n",
    "final_State = workflow.invoke(initial_state)\n",
    "print(final_State)"
   ]
  }
 ],
 "metadata": {
  "kernelspec": {
   "display_name": "myvenv (3.13.5)",
   "language": "python",
   "name": "python3"
  },
  "language_info": {
   "codemirror_mode": {
    "name": "ipython",
    "version": 3
   },
   "file_extension": ".py",
   "mimetype": "text/x-python",
   "name": "python",
   "nbconvert_exporter": "python",
   "pygments_lexer": "ipython3",
   "version": "3.13.5"
  }
 },
 "nbformat": 4,
 "nbformat_minor": 5
}
